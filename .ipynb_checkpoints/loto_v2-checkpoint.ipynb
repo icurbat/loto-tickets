{
 "cells": [
  {
   "cell_type": "markdown",
   "id": "b5d68179-89bc-4faf-8001-49a4dce7331d",
   "metadata": {},
   "source": [
    "# <center>🍀Loto 6/49 with multiple tickets 🍀</center>"
   ]
  },
  {
   "cell_type": "markdown",
   "id": "51525f00-8da6-4cbb-970a-029896874240",
   "metadata": {},
   "source": [
    "<center><img src=\"doggo.jpg\"/></center>"
   ]
  },
  {
   "cell_type": "markdown",
   "id": "6ebed5e4-6687-4ec5-ad20-72e7f3573550",
   "metadata": {},
   "source": [
    "* A number of lottery tickets are read from the keyboard.\n",
    "* Randomly generate the selected number of tickets into an input file.\n",
    "* Perform a random draw of 6 numbers, from 1 to 49.\n",
    "* Check if there is any ticket that has read at least 4 of the numbers drawn.\n",
    "* Display the number of lucky tickets."
   ]
  },
  {
   "cell_type": "code",
   "execution_count": 1,
   "id": "b3c14b23-42b3-444b-a4b4-3e1f2e9dbbfd",
   "metadata": {},
   "outputs": [],
   "source": [
    "import random"
   ]
  },
  {
   "cell_type": "code",
   "execution_count": 2,
   "id": "0a5978b4-a844-4c33-bca8-4898148122cf",
   "metadata": {},
   "outputs": [],
   "source": [
    "def number_extraction():\n",
    "    extraction = []\n",
    "    counter = 0\n",
    "    while counter < 6:\n",
    "        extracted_number = random.randint(1, 49)\n",
    "        if extracted_number not in extraction:\n",
    "            extraction.append(extracted_number)\n",
    "            counter += 1\n",
    "    return extraction"
   ]
  },
  {
   "cell_type": "code",
   "execution_count": 3,
   "id": "7f1f4b2f-5b89-4429-b82b-8a2c38a473e0",
   "metadata": {},
   "outputs": [
    {
     "name": "stdin",
     "output_type": "stream",
     "text": [
      "Enter the number of tickets you wish to play:  1000\n"
     ]
    }
   ],
   "source": [
    "ticket_number = int(input(\"Enter the number of tickets you wish to play: \"))\n",
    "while ticket_number <= 0:\n",
    "    ticket_number = int(input(\"Enter a positive number: \"))"
   ]
  },
  {
   "cell_type": "code",
   "execution_count": 4,
   "id": "2dabe3ff-6e26-4523-935f-0c7776fdab6f",
   "metadata": {},
   "outputs": [],
   "source": [
    "player_tickets = []\n",
    "for _ in range(ticket_number):\n",
    "    ticket = number_extraction()\n",
    "    player_tickets.append(ticket)\n",
    "\n",
    "with open(\"tickets.txt\", \"w\") as f:\n",
    "    for ticket in player_tickets:\n",
    "        f.write(f\"{ticket}\\n\")"
   ]
  },
  {
   "cell_type": "code",
   "execution_count": 5,
   "id": "0c00c7d7-8150-41ff-8671-f6c186523728",
   "metadata": {},
   "outputs": [
    {
     "name": "stdout",
     "output_type": "stream",
     "text": [
      "The winning numbers are: [19, 20, 24, 18, 40, 48]\n"
     ]
    }
   ],
   "source": [
    "winning_numbers = number_extraction()\n",
    "print(f\"The winning numbers are: {winning_numbers}\")"
   ]
  },
  {
   "cell_type": "code",
   "execution_count": 6,
   "id": "b06cfce1-6fe2-4ee4-ba10-01070a8a6918",
   "metadata": {},
   "outputs": [],
   "source": [
    "four_numbers = 0\n",
    "five_numbers = 0\n",
    "six_numbers = 0\n",
    "with open(\"tickets.txt\", \"r\") as f:\n",
    "    tickets = f.readlines()\n",
    "    for ticket in tickets:\n",
    "        ticket = ticket.replace(\"[\",\"\")\n",
    "        ticket = ticket.replace(\"]\",\"\")\n",
    "        ticket = ticket.replace(\"\\n\",\"\")\n",
    "        list_str = ticket.split(\",\")\n",
    "        list_int = [int(number) for number in list_str]\n",
    "        guessed_numbers = 0\n",
    "        for winning_number in winning_numbers:\n",
    "            if winning_number in list_int:\n",
    "                guessed_numbers += 1\n",
    "        if guessed_numbers == 4:\n",
    "            four_numbers += 1\n",
    "        if guessed_numbers == 5:\n",
    "            five_numbers += 1\n",
    "        if guessed_numbers == 6:\n",
    "            six_numbers += 1"
   ]
  },
  {
   "cell_type": "code",
   "execution_count": 7,
   "id": "a4f9120c-5739-45a1-8570-ecb179714e65",
   "metadata": {},
   "outputs": [
    {
     "name": "stdout",
     "output_type": "stream",
     "text": [
      "[19, 20, 24, 18, 40, 48] are the winning numbers.\n",
      "3 tickets contain 4 winning numbers.\n",
      "0 tickets contain 5 winning numbers.\n",
      "0 tickets contain 6 winning numbers.\n"
     ]
    }
   ],
   "source": [
    "print(f\"{winning_numbers} are the winning numbers.\")\n",
    "print(f\"{four_numbers} tickets contain 4 winning numbers.\")\n",
    "print(f\"{five_numbers} tickets contain 5 winning numbers.\")\n",
    "print(f\"{six_numbers} tickets contain 6 winning numbers.\")"
   ]
  }
 ],
 "metadata": {
  "kernelspec": {
   "display_name": "Python 3 (ipykernel)",
   "language": "python",
   "name": "python3"
  },
  "language_info": {
   "codemirror_mode": {
    "name": "ipython",
    "version": 3
   },
   "file_extension": ".py",
   "mimetype": "text/x-python",
   "name": "python",
   "nbconvert_exporter": "python",
   "pygments_lexer": "ipython3",
   "version": "3.10.12"
  }
 },
 "nbformat": 4,
 "nbformat_minor": 5
}
